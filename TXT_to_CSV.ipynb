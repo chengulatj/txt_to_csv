{
  "nbformat": 4,
  "nbformat_minor": 0,
  "metadata": {
    "colab": {
      "provenance": [],
      "mount_file_id": "10NEtLs9WbBwOIltY-2M7N6gEwJBMZQ_-",
      "authorship_tag": "ABX9TyNebgbPldhKy2VJO0u0AwxA",
      "include_colab_link": true
    },
    "kernelspec": {
      "name": "python3",
      "display_name": "Python 3"
    },
    "language_info": {
      "name": "python"
    }
  },
  "cells": [
    {
      "cell_type": "markdown",
      "metadata": {
        "id": "view-in-github",
        "colab_type": "text"
      },
      "source": [
        "<a href=\"https://colab.research.google.com/github/chengulatj/txt_to_csv/blob/main/TXT_to_CSV.ipynb\" target=\"_parent\"><img src=\"https://colab.research.google.com/assets/colab-badge.svg\" alt=\"Open In Colab\"/></a>"
      ]
    },
    {
      "cell_type": "code",
      "execution_count": null,
      "metadata": {
        "id": "biWpe_WnaITD"
      },
      "outputs": [],
      "source": [
        "import csv"
      ]
    },
    {
      "cell_type": "markdown",
      "source": [
        "# **CRASH** **CARRIER** **TABLES**"
      ],
      "metadata": {
        "id": "m5evMB9OisOi"
      }
    },
    {
      "cell_type": "code",
      "source": [
        "input = '/content/drive/MyDrive/CrashCarrier_01012021_12312021HDR.txt'\n",
        "output = '/content/drive/MyDrive/CrashCarrier_21.csv'\n",
        "\n",
        "#specifying the delimiter used in the text file\n",
        "delimiter = '\\t'\n",
        "\n",
        "#reading the text file and writing the csv file\n",
        "with open(input, 'r', encoding='latin-1') as txt_file, open(output, 'w', newline='', encoding='utf-8') as csv_file:\n",
        "    #creating a csv writer object\n",
        "    csv_writer = csv.writer(csv_file)\n",
        "\n",
        "    #iterating through each line in the text file\n",
        "    for line in txt_file:\n",
        "        #splitting the line into a list of values based on the delimitter\n",
        "        row = line.strip().split(delimiter)\n",
        "        #writing the row to the CSV file\n",
        "        csv_writer.writerow(row)\n",
        "\n",
        "print(f'Text file \"{input}\" has been successfully converted to CSV file \"{output}\".')"
      ],
      "metadata": {
        "colab": {
          "base_uri": "https://localhost:8080/"
        },
        "id": "BK0VGffmaRRM",
        "outputId": "659286f7-35ed-40fb-d3a8-3b802284df91"
      },
      "execution_count": null,
      "outputs": [
        {
          "output_type": "stream",
          "name": "stdout",
          "text": [
            "Text file \"/content/drive/MyDrive/CrashCarrier_01012021_12312021HDR.txt\" has been successfully converted to CSV file \"/content/drive/MyDrive/CrashCarrier_21.csv\".\n"
          ]
        }
      ]
    },
    {
      "cell_type": "code",
      "source": [
        "input = '/content/drive/MyDrive/CrashCarrier_01012022_12312022HDR.txt'\n",
        "output = '/content/drive/MyDrive/CrashCarrier_22.csv'\n",
        "\n",
        "#specifying the delimiter used in the text file\n",
        "delimiter = '\\t'\n",
        "\n",
        "#reading the text file and writing the csv file\n",
        "with open(input, 'r', encoding='latin-1') as txt_file, open(output, 'w', newline='', encoding='utf-8') as csv_file:\n",
        "    #creating a csv writer object\n",
        "    csv_writer = csv.writer(csv_file)\n",
        "\n",
        "    #iterating through each line in the text file\n",
        "    for line in txt_file:\n",
        "        #splitting the line into a list of values based on the delimitter\n",
        "        row = line.strip().split(delimiter)\n",
        "        #writing the row to the CSV file\n",
        "        csv_writer.writerow(row)\n",
        "\n",
        "print(f'Text file \"{input}\" has been successfully converted to CSV file \"{output}\".')"
      ],
      "metadata": {
        "colab": {
          "base_uri": "https://localhost:8080/"
        },
        "outputId": "7e48b2aa-3aa8-4d78-da40-5adb6c30f0d8",
        "id": "VZEdxWbagpEG"
      },
      "execution_count": null,
      "outputs": [
        {
          "output_type": "stream",
          "name": "stdout",
          "text": [
            "Text file \"/content/drive/MyDrive/CrashCarrier_01012022_12312022HDR.txt\" has been successfully converted to CSV file \"/content/drive/MyDrive/CrashCarrier_22.csv\".\n"
          ]
        }
      ]
    },
    {
      "cell_type": "code",
      "source": [
        "input = '/content/drive/MyDrive/CrashCarrier_01012023_12312023HDR.txt'\n",
        "output = '/content/drive/MyDrive/CrashCarrier_23.csv'\n",
        "\n",
        "#specifying the delimiter used in the text file\n",
        "delimiter = '\\t'\n",
        "\n",
        "#reading the text file and writing the csv file\n",
        "with open(input, 'r', encoding='latin-1') as txt_file, open(output, 'w', newline='', encoding='utf-8') as csv_file:\n",
        "    #creating a csv writer object\n",
        "    csv_writer = csv.writer(csv_file)\n",
        "\n",
        "    #iterating through each line in the text file\n",
        "    for line in txt_file:\n",
        "        #splitting the line into a list of values based on the delimitter\n",
        "        row = line.strip().split(delimiter)\n",
        "        #writing the row to the CSV file\n",
        "        csv_writer.writerow(row)\n",
        "\n",
        "print(f'Text file \"{input}\" has been successfully converted to CSV file \"{output}\".')"
      ],
      "metadata": {
        "colab": {
          "base_uri": "https://localhost:8080/"
        },
        "outputId": "00fc1518-3bc1-4956-9636-ab9f330c45b1",
        "id": "rALNcswWh5PF"
      },
      "execution_count": null,
      "outputs": [
        {
          "output_type": "stream",
          "name": "stdout",
          "text": [
            "Text file \"/content/drive/MyDrive/CrashCarrier_01012023_12312023HDR.txt\" has been successfully converted to CSV file \"/content/drive/MyDrive/CrashCarrier_23.csv\".\n"
          ]
        }
      ]
    },
    {
      "cell_type": "markdown",
      "source": [
        "# **CRASH EVENT TABLES**"
      ],
      "metadata": {
        "id": "LNzke16rjSUa"
      }
    },
    {
      "cell_type": "code",
      "source": [
        "input = '/content/drive/MyDrive/CrashEvent_01012021_12312021HDR.txt'\n",
        "output = '/content/drive/MyDrive/Event_21.csv'\n",
        "\n",
        "#specifying the delimiter used in the text file\n",
        "delimiter = '\\t'\n",
        "\n",
        "#reading the text file and writing the csv file\n",
        "with open(input, 'r', encoding='latin-1') as txt_file, open(output, 'w', newline='', encoding='utf-8') as csv_file:\n",
        "    #creating a csv writer object\n",
        "    csv_writer = csv.writer(csv_file)\n",
        "\n",
        "    #iterating through each line in the text file\n",
        "    for line in txt_file:\n",
        "        #splitting the line into a list of values based on the delimitter\n",
        "        row = line.strip().split(delimiter)\n",
        "        #writing the row to the CSV file\n",
        "        csv_writer.writerow(row)\n",
        "\n",
        "print(f'Text file \"{input}\" has been successfully converted to CSV file \"{output}\".')"
      ],
      "metadata": {
        "colab": {
          "base_uri": "https://localhost:8080/"
        },
        "id": "F7-QgLjgbfNP",
        "outputId": "3391cf74-2dcf-4a11-b1ac-bb9e210d4c85"
      },
      "execution_count": null,
      "outputs": [
        {
          "output_type": "stream",
          "name": "stdout",
          "text": [
            "Text file \"/content/drive/MyDrive/CrashEvent_01012021_12312021HDR.txt\" has been successfully converted to CSV file \"/content/drive/MyDrive/Event_21.csv\".\n"
          ]
        }
      ]
    },
    {
      "cell_type": "code",
      "source": [
        "input = '/content/drive/MyDrive/CrashEvent_01012022_12312022HDR.txt'\n",
        "output = '/content/drive/MyDrive/Event_22.csv'\n",
        "\n",
        "#specifying the delimiter used in the text file\n",
        "delimiter = '\\t'\n",
        "\n",
        "#reading the text file and writing the csv file\n",
        "with open(input, 'r', encoding='latin-1') as txt_file, open(output, 'w', newline='', encoding='utf-8') as csv_file:\n",
        "    #creating a csv writer object\n",
        "    csv_writer = csv.writer(csv_file)\n",
        "\n",
        "    #iterating through each line in the text file\n",
        "    for line in txt_file:\n",
        "        #splitting the line into a list of values based on the delimitter\n",
        "        row = line.strip().split(delimiter)\n",
        "        #writing the row to the CSV file\n",
        "        csv_writer.writerow(row)\n",
        "\n",
        "print(f'Text file \"{input}\" has been successfully converted to CSV file \"{output}\".')"
      ],
      "metadata": {
        "colab": {
          "base_uri": "https://localhost:8080/"
        },
        "outputId": "57ec13e9-3d80-4d37-9872-2dcf0636664c",
        "id": "9G_upam0g8K3"
      },
      "execution_count": null,
      "outputs": [
        {
          "output_type": "stream",
          "name": "stdout",
          "text": [
            "Text file \"/content/drive/MyDrive/CrashEvent_01012022_12312022HDR.txt\" has been successfully converted to CSV file \"/content/drive/MyDrive/Event_22.csv\".\n"
          ]
        }
      ]
    },
    {
      "cell_type": "code",
      "source": [
        "input = '/content/drive/MyDrive/CrashEvent_01012023_12312023HDR.txt'\n",
        "output = '/content/drive/MyDrive/Event_23.csv'\n",
        "\n",
        "#specifying the delimiter used in the text file\n",
        "delimiter = '\\t'\n",
        "\n",
        "#reading the text file and writing the csv file\n",
        "with open(input, 'r', encoding='latin-1') as txt_file, open(output, 'w', newline='', encoding='utf-8') as csv_file:\n",
        "    #creating a csv writer object\n",
        "    csv_writer = csv.writer(csv_file)\n",
        "\n",
        "    #iterating through each line in the text file\n",
        "    for line in txt_file:\n",
        "        #splitting the line into a list of values based on the delimitter\n",
        "        row = line.strip().split(delimiter)\n",
        "        #writing the row to the CSV file\n",
        "        csv_writer.writerow(row)\n",
        "\n",
        "print(f'Text file \"{input}\" has been successfully converted to CSV file \"{output}\".')"
      ],
      "metadata": {
        "colab": {
          "base_uri": "https://localhost:8080/"
        },
        "id": "J7rWd9QTiLJ0",
        "outputId": "4ca2d6f3-743d-43fa-bbd0-460596febe80"
      },
      "execution_count": null,
      "outputs": [
        {
          "output_type": "stream",
          "name": "stdout",
          "text": [
            "Text file \"/content/drive/MyDrive/CrashEvent_01012023_12312023HDR.txt\" has been successfully converted to CSV file \"/content/drive/MyDrive/Event_23.csv\".\n"
          ]
        }
      ]
    },
    {
      "cell_type": "markdown",
      "source": [
        "# **CRASH MASTER TABLES**"
      ],
      "metadata": {
        "id": "RsobZauFjky_"
      }
    },
    {
      "cell_type": "code",
      "source": [
        "input = '/content/drive/MyDrive/CrashMaster_01012021_12312021HDR.txt'\n",
        "output = '/content/drive/MyDrive/Master_21.csv'\n",
        "\n",
        "#specifying the delimiter used in the text file\n",
        "delimiter = '\\t'\n",
        "\n",
        "#reading the text file and writing the csv file\n",
        "with open(input, 'r', encoding='latin-1') as txt_file, open(output, 'w', newline='', encoding='utf-8') as csv_file:\n",
        "    #creating a csv writer object\n",
        "    csv_writer = csv.writer(csv_file)\n",
        "\n",
        "    #iterating through each line in the text file\n",
        "    for line in txt_file:\n",
        "        #splitting the line into a list of values based on the delimitter\n",
        "        row = line.strip().split(delimiter)\n",
        "        #writing the row to the CSV file\n",
        "        csv_writer.writerow(row)\n",
        "\n",
        "print(f'Text file \"{input}\" has been successfully converted to CSV file \"{output}\".')"
      ],
      "metadata": {
        "colab": {
          "base_uri": "https://localhost:8080/"
        },
        "outputId": "5313473c-45cc-4247-e3f8-e7b22f41f8cb",
        "id": "UfCCj8QmgGPV"
      },
      "execution_count": null,
      "outputs": [
        {
          "output_type": "stream",
          "name": "stdout",
          "text": [
            "Text file \"/content/drive/MyDrive/CrashMaster_01012021_12312021HDR.txt\" has been successfully converted to CSV file \"/content/drive/MyDrive/Master_21.csv\".\n"
          ]
        }
      ]
    },
    {
      "cell_type": "code",
      "source": [
        "input = '/content/drive/MyDrive/CrashMaster_01012022_12312022HDR.txt'\n",
        "output = '/content/drive/MyDrive/Master_22.csv'\n",
        "\n",
        "#specifying the delimiter used in the text file\n",
        "delimiter = '\\t'\n",
        "\n",
        "#reading the text file and writing the csv file\n",
        "with open(input, 'r', encoding='latin-1') as txt_file, open(output, 'w', newline='', encoding='utf-8') as csv_file:\n",
        "    #creating a csv writer object\n",
        "    csv_writer = csv.writer(csv_file)\n",
        "\n",
        "    #iterating through each line in the text file\n",
        "    for line in txt_file:\n",
        "        #splitting the line into a list of values based on the delimitter\n",
        "        row = line.strip().split(delimiter)\n",
        "        #writing the row to the CSV file\n",
        "        csv_writer.writerow(row)\n",
        "\n",
        "print(f'Text file \"{input}\" has been successfully converted to CSV file \"{output}\".')"
      ],
      "metadata": {
        "colab": {
          "base_uri": "https://localhost:8080/"
        },
        "outputId": "9bd26bc1-3c32-46fc-d069-154676dcf40c",
        "id": "MJegh5GJhJIV"
      },
      "execution_count": null,
      "outputs": [
        {
          "output_type": "stream",
          "name": "stdout",
          "text": [
            "Text file \"/content/drive/MyDrive/CrashMaster_01012022_12312022HDR.txt\" has been successfully converted to CSV file \"/content/drive/MyDrive/Master_22.csv\".\n"
          ]
        }
      ]
    },
    {
      "cell_type": "code",
      "source": [
        "input = '/content/drive/MyDrive/CrashMaster_01012023_12312023HDR.txt'\n",
        "output = '/content/drive/MyDrive/Master_23.csv'\n",
        "\n",
        "#specifying the delimiter used in the text file\n",
        "delimiter = '\\t'\n",
        "\n",
        "#reading the text file and writing the csv file\n",
        "with open(input, 'r', encoding='latin-1') as txt_file, open(output, 'w', newline='', encoding='utf-8') as csv_file:\n",
        "    #creating a csv writer object\n",
        "    csv_writer = csv.writer(csv_file)\n",
        "\n",
        "    #iterating through each line in the text file\n",
        "    for line in txt_file:\n",
        "        #splitting the line into a list of values based on the delimitter\n",
        "        row = line.strip().split(delimiter)\n",
        "        #writing the row to the CSV file\n",
        "        csv_writer.writerow(row)\n",
        "\n",
        "print(f'Text file \"{input}\" has been successfully converted to CSV file \"{output}\".')"
      ],
      "metadata": {
        "colab": {
          "base_uri": "https://localhost:8080/"
        },
        "outputId": "b12e6d87-5c78-4562-f957-47c33d7b6caf",
        "id": "qlYESyFziaZJ"
      },
      "execution_count": null,
      "outputs": [
        {
          "output_type": "stream",
          "name": "stdout",
          "text": [
            "Text file \"/content/drive/MyDrive/CrashMaster_01012023_12312023HDR.txt\" has been successfully converted to CSV file \"/content/drive/MyDrive/Master_23.csv\".\n"
          ]
        }
      ]
    }
  ]
}